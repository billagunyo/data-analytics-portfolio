{
  "nbformat": 4,
  "nbformat_minor": 0,
  "metadata": {
    "colab": {
      "provenance": []
    },
    "kernelspec": {
      "name": "python3",
      "display_name": "Python 3"
    },
    "language_info": {
      "name": "python"
    }
  },
  "cells": [
    {
      "cell_type": "markdown",
      "metadata": {
        "id": "16009de3"
      },
      "source": [
        "# Data Analysis Group Assignment"
      ]
    },
    {
      "cell_type": "markdown",
      "metadata": {
        "id": "0c25f6ff"
      },
      "source": [
        "# Data Analysis Group Assignment\n",
        "\n",
        "This notebook performs an exploratory data analysis (EDA) and applies clustering and regression techniques to the provided dataset.\n",
        "\n",
        "## Analysis Steps:\n",
        "\n",
        "1.  **Data Loading:** The dataset is loaded from an Excel file.\n",
        "2.  **Data Structure:** The shape, data types, and summary statistics of the dataset are displayed.\n",
        "3.  **Missing Values:** The number of missing values per column is identified.\n",
        "4.  **Outlier Detection:** Boxplots are generated to identify and visualize outliers in numerical variables.\n",
        "5.  **Correlation Analysis:** A correlation matrix and heatmap are computed and displayed to understand the relationships between numerical variables. Strong positive and negative correlations are highlighted.\n",
        "6.  **Variable Selection for Clustering:** Variables with notable correlations are considered for clustering analysis.\n",
        "7.  **K-Means Clustering:** K-Means clustering is applied to the selected variables, and the Elbow method is used to determine a suitable number of clusters.\n",
        "8.  **Cluster Visualization:** Principal Component Analysis (PCA) is used to reduce the dimensionality of the data, and the clusters are visualized in a 2D scatter plot.\n",
        "9.  **Cluster Interpretation:** The mean values of the clustering variables are calculated for each cluster to understand their characteristics.\n",
        "10. **Variable Selection for Regression:** Independent and dependent variables are selected for regression analysis.\n",
        "11. **Linear Regression:** A linear regression model is applied to predict the 'Level' based on the selected independent variables. The data is split into training and testing sets, and variables are scaled.\n",
        "12. **Regression Interpretation:** The intercept and coefficients of the linear regression model are displayed and interpreted to understand the impact of each independent variable on the dependent variable. Regression evaluation metrics (MAE, MSE, RMSE, R2) are computed and displayed.\n",
        "13. **Data Export:** The cleaned dataset is exported to a new Excel file.\n",
        "\n",
        "This notebook provides insights into the dataset's structure, relationships between variables, identifies potential clusters, and explores the factors influencing the 'Level' variable through regression."
      ]
    },
    {
      "cell_type": "markdown",
      "metadata": {
        "id": "50826f42"
      },
      "source": [
        "## Load the data"
      ]
    },
    {
      "cell_type": "code",
      "metadata": {
        "id": "c676fde2"
      },
      "source": [
        "import pandas as pd\n",
        "\n",
        "file_path = \"/content/drive/MyDrive/Colab Data/Group_Project.xlsx\"\n",
        "\n",
        "df = pd.read_excel(file_path)\n",
        "\n",
        "display(df.head())"
      ],
      "execution_count": null,
      "outputs": []
    },
    {
      "cell_type": "markdown",
      "metadata": {
        "id": "d8692f53"
      },
      "source": [
        "## Show dataset structure"
      ]
    },
    {
      "cell_type": "code",
      "metadata": {
        "id": "0cbd25f4"
      },
      "source": [
        "print(\"Data Frame Shape (Rows, Columns)\", df.shape)\n",
        "\n",
        "print(\"\\nData types of each column:\")\n",
        "print(df.dtypes)\n",
        "\n",
        "print(\"\\nConcise summary of the DataFrame:\")\n",
        "df.info()\n",
        "\n",
        "print(\"\\nDescriptive statistics for numerical columns:\")\n",
        "display(df.describe())"
      ],
      "execution_count": null,
      "outputs": []
    },
    {
      "cell_type": "markdown",
      "metadata": {
        "id": "00dcd0bd"
      },
      "source": [
        "## Handle missing values"
      ]
    },
    {
      "cell_type": "code",
      "metadata": {
        "id": "796bb464"
      },
      "source": [
        "missing_values = df.isnull().sum()\n",
        "print(\"Number of missing values per column:\")\n",
        "print(missing_values)"
      ],
      "execution_count": null,
      "outputs": []
    },
    {
      "cell_type": "markdown",
      "metadata": {
        "id": "15776b24"
      },
      "source": [
        "## Identify and describe outliers"
      ]
    },
    {
      "cell_type": "code",
      "metadata": {
        "id": "88d10d22"
      },
      "source": [
        "import matplotlib.pyplot as plt\n",
        "import numpy as np\n",
        "\n",
        "numerical_cols = df.select_dtypes(include=np.number).columns.tolist()\n",
        "numerical_cols.remove('index')\n",
        "numerical_cols.remove('Gender')\n",
        "numerical_cols.remove('Age')\n",
        "\n",
        "plt.figure(figsize=(12, 6))\n",
        "df[numerical_cols].boxplot(patch_artist=True, boxprops=dict(facecolor=\"lightcoral\"))\n",
        "plt.xticks(rotation=45)\n",
        "plt.ylabel(\"Values\")\n",
        "plt.title(\"Boxplots of Numerical Variables\")\n",
        "plt.grid(False)\n",
        "plt.show()\n",
        "\n",
        "plt.figure(figsize=(4, 6))\n",
        "df[['Age']].boxplot(patch_artist=True, boxprops=dict(facecolor=\"lightcoral\"))\n",
        "plt.title(\"Boxplot of Age\")\n",
        "plt.grid(False)\n",
        "plt.show()"
      ],
      "execution_count": null,
      "outputs": []
    },
    {
      "cell_type": "markdown",
      "metadata": {
        "id": "cf817b68"
      },
      "source": [
        "## Compute and interpret correlation coefficients"
      ]
    },
    {
      "cell_type": "code",
      "metadata": {
        "id": "e6263211"
      },
      "source": [
        "import seaborn as sns\n",
        "import matplotlib.pyplot as plt\n",
        "\n",
        "numerical_cols_forr = df.select_dtypes(include=['int64', 'float64']).columns.tolist()\n",
        "numerical_cols_forr = [col for col in numerical_cols_forr if col not in ['index', 'Patient Id', 'Gender']]\n",
        "\n",
        "correlation_matrix_forr = df[numerical_cols_forr].corr()\n",
        "\n",
        "print(\"Correlation Matrix:\")\n",
        "display(correlation_matrix_forr)\n",
        "\n",
        "# Visualize the correlation matrix using a heatmap\n",
        "plt.figure(figsize=(14, 10))\n",
        "sns.heatmap(correlation_matrix_forr, annot=False, cmap='coolwarm', fmt=\".2f\")\n",
        "plt.title('Correlation Heatmap of Numerical Variables')\n",
        "plt.show()\n",
        "\n",
        "\n",
        "print(\"\\nStrong Positive Correlations (Correlation > 0.7):\")\n",
        "strong_positive_corr_forr = correlation_matrix_forr[abs(correlation_matrix_forr) > 0.7].stack().sort_values(ascending=False)\n",
        "strong_positive_corr_forr = strong_positive_corr_forr[strong_positive_corr_forr < 1]\n",
        "if not strong_positive_corr_forr.empty:\n",
        "    print(strong_positive_corr_forr)\n",
        "else:\n",
        "    print(\"No strong positive correlations (above 0.7) found.\")\n",
        "\n",
        "print(\"\\nStrong Negative Correlations (Correlation < -0.5):\")\n",
        "strong_negative_corr_forr = correlation_matrix_forr[correlation_matrix_forr < -0.5].stack().sort_values()\n",
        "if not strong_negative_corr_forr.empty:\n",
        "    print(strong_negative_corr_forr)\n",
        "else:\n",
        "    print(\"No strong negative correlations (below -0.5) found.\")"
      ],
      "execution_count": null,
      "outputs": []
    },
    {
      "cell_type": "markdown",
      "metadata": {
        "id": "fbb5248e"
      },
      "source": [
        "## Select variables for clustering"
      ]
    },
    {
      "cell_type": "code",
      "metadata": {
        "id": "840d018d"
      },
      "source": [
        "print(\"Review of Strong Positive Correlations:\")\n",
        "display(strong_positive_corr_forr)\n",
        "clustering_vars = [\n",
        "    'Age',\n",
        "    'Air Pollution',\n",
        "    'Alcohol use',\n",
        "    'Dust Allergy',\n",
        "    'OccuPational Hazards',\n",
        "    'Genetic Risk',\n",
        "    'chronic Lung Disease',\n",
        "    'Balanced Diet',\n",
        "    'Obesity',\n",
        "    'Smoking',\n",
        "    'Passive Smoker',\n",
        "    'Chest Pain',\n",
        "    'Coughing of Blood',\n",
        "    'Fatigue',\n",
        "    'Weight Loss',\n",
        "    'Shortness of Breath',\n",
        "    'Wheezing',\n",
        "    'Swallowing Difficulty',\n",
        "    'Clubbing of Finger Nails',\n",
        "    'Frequent Cold',\n",
        "    'Dry Cough',\n",
        "    'Snoring'\n",
        "]"
      ],
      "execution_count": null,
      "outputs": []
    },
    {
      "cell_type": "markdown",
      "metadata": {
        "id": "2f84dada"
      },
      "source": [
        "## Apply k-means clustering and determine optimal clusters"
      ]
    },
    {
      "cell_type": "code",
      "metadata": {
        "id": "b6a829cb"
      },
      "source": [
        "from sklearn.cluster import KMeans\n",
        "import matplotlib.pyplot as plt\n",
        "\n",
        "X = df[clustering_vars]\n",
        "\n",
        "inertia = []\n",
        "k_range = range(1, 11)\n",
        "for k in k_range:\n",
        "    kmeans = KMeans(n_clusters=k, random_state=42, n_init=10)\n",
        "    kmeans.fit(X)\n",
        "    inertia.append(kmeans.inertia_)\n",
        "\n",
        "plt.figure(figsize=(10, 6))\n",
        "plt.plot(k_range, inertia, marker='o')\n",
        "plt.title('Elbow Method for Optimal k')\n",
        "plt.xlabel('Number of Clusters (k)')\n",
        "plt.ylabel('Inertia')\n",
        "plt.xticks(k_range)\n",
        "plt.grid(True)\n",
        "plt.show()"
      ],
      "execution_count": null,
      "outputs": []
    },
    {
      "cell_type": "markdown",
      "metadata": {
        "id": "4c629230"
      },
      "source": [
        "## Visualize clusters"
      ]
    },
    {
      "cell_type": "code",
      "metadata": {
        "id": "859d6fd0"
      },
      "source": [
        "from sklearn.decomposition import PCA\n",
        "from sklearn.cluster import KMeans\n",
        "import seaborn as sns\n",
        "import matplotlib.pyplot as plt\n",
        "\n",
        "X = df[clustering_vars]\n",
        "\n",
        "pca = PCA(n_components=2)\n",
        "\n",
        "X_pca = pca.fit_transform(X)\n",
        "\n",
        "X_pca = pd.DataFrame(X_pca, columns=['PCA1', 'PCA2'])\n",
        "\n",
        "kmeans = KMeans(n_clusters=3, random_state=42, n_init=10)\n",
        "\n",
        "kmeans.fit(X)\n",
        "\n",
        "X_pca['cluster'] = kmeans.labels_\n",
        "\n",
        "plt.figure(figsize=(10, 8))\n",
        "sns.scatterplot(x='PCA1', y='PCA2', hue='cluster', data=X_pca, palette='viridis', legend='full')\n",
        "\n",
        "plt.title('K-Means Clustering Results (PCA Reduced)')\n",
        "\n",
        "plt.show()"
      ],
      "execution_count": null,
      "outputs": []
    },
    {
      "cell_type": "markdown",
      "metadata": {
        "id": "c30d2ec6"
      },
      "source": [
        "## Interpret Clusters"
      ]
    },
    {
      "cell_type": "code",
      "metadata": {
        "id": "994c4f4d"
      },
      "source": [
        "df_clustered = df.copy()\n",
        "df_clustered['cluster'] = kmeans.labels_\n",
        "\n",
        "cluster_means = df_clustered.groupby('cluster')[clustering_vars].mean()\n",
        "\n",
        "print(\"\\nMean values of variables per cluster:\")\n",
        "display(cluster_means)"
      ],
      "execution_count": null,
      "outputs": []
    },
    {
      "cell_type": "markdown",
      "metadata": {
        "id": "1756b0e6"
      },
      "source": [
        "## Select variables for regression analysis"
      ]
    },
    {
      "cell_type": "code",
      "metadata": {
        "id": "0b2b1e77"
      },
      "source": [
        "dependent_variable = 'Level'\n",
        "independent_variables = [\n",
        "    'Age',\n",
        "    'Air Pollution',\n",
        "    'Alcohol use',\n",
        "    'Dust Allergy',\n",
        "    'OccuPational Hazards',\n",
        "    'Genetic Risk',\n",
        "    'chronic Lung Disease',\n",
        "    'Smoking',\n",
        "    'Passive Smoker',\n",
        "    'Chest Pain',\n",
        "    'Coughing of Blood',\n",
        "    'Fatigue',\n",
        "    'Weight Loss',\n",
        "    'Shortness of Breath',\n",
        "    'Wheezing',\n",
        "    'Swallowing Difficulty',\n",
        "    'Clubbing of Finger Nails',\n",
        "    'Frequent Cold',\n",
        "    'Dry Cough',\n",
        "    'Snoring'\n",
        " ]"
      ],
      "execution_count": null,
      "outputs": []
    },
    {
      "cell_type": "markdown",
      "metadata": {
        "id": "1e84ec2b"
      },
      "source": [
        "## Apply regression model"
      ]
    },
    {
      "cell_type": "code",
      "metadata": {
        "id": "b71e1b04"
      },
      "source": [
        "from sklearn.model_selection import train_test_split\n",
        "from sklearn.linear_model import LinearRegression\n",
        "from sklearn.preprocessing import LabelEncoder, StandardScaler\n",
        "import numpy as np\n",
        "\n",
        "X = df[independent_variables]\n",
        "y = df[dependent_variable]\n",
        "\n",
        "level_mapping = {'Low': 0, 'Medium': 1, 'High': 2}\n",
        "y_encoded = y.map(level_mapping)\n",
        "\n",
        "scaler = StandardScaler()\n",
        "X_scaled = scaler.fit_transform(X)\n",
        "X_scaled = pd.DataFrame(X_scaled, columns=independent_variables)\n",
        "\n",
        "X_train, X_test, y_train_encoded, y_test_encoded = train_test_split(X_scaled, y_encoded, test_size=0.2, random_state=42)\n",
        "\n",
        "model = LinearRegression()\n",
        "model.fit(X_train, y_train_encoded)\n",
        "\n",
        "print(\"Linear Regression model fitted\")\n",
        "print(f\"Independent variables used: {independent_variables}\")\n",
        "print(f\"Dependent variable used: {dependent_variable} (Encoded)\")\n",
        "print(f\"Training data shape: {X_train.shape}\")\n",
        "print(f\"Testing data shape: {X_test.shape}\")"
      ],
      "execution_count": null,
      "outputs": []
    },
    {
      "cell_type": "code",
      "metadata": {
        "id": "b4fa79d2"
      },
      "source": [
        "from sklearn.metrics import mean_absolute_error, mean_squared_error, r2_score\n",
        "import numpy as np\n",
        "\n",
        "print(\"Regression Output:\")\n",
        "print(f\"Intercept: {model.intercept_}\")\n",
        "print(f\"Coefficients: {model.coef_}\")\n",
        "\n",
        "coefficients_df = pd.Series(model.coef_, index=independent_variables)\n",
        "print(\"\\nCoefficients with variable names:\")\n",
        "display(coefficients_df)\n",
        "\n",
        "for var, coef in coefficients_df.items():\n",
        "    if abs(coef) > 0.1:\n",
        "        print(f\"{var}: Notable impact on 'Level' (coef = {coef:.4f})\")\n",
        "\n",
        "y_pred = model.predict(X_test)\n",
        "\n",
        "mae = mean_absolute_error(y_test_encoded, y_pred)\n",
        "mse = mean_squared_error(y_test_encoded, y_pred)\n",
        "rmse = np.sqrt(mse)\n",
        "r2 = r2_score(y_test_encoded, y_pred)\n",
        "\n",
        "print(\"\\nRegression Evaluation Metrics on Test Set:\")\n",
        "print(f\"Mean Absolute Error (MAE): {mae:.4f}\")\n",
        "print(f\"Mean Squared Error (MSE): {mse:.4f}\")\n",
        "print(f\"Root Mean Squared Error (RMSE): {rmse:.4f}\")\n",
        "print(f\"R-squared (R2) Score: {r2:.4f}\")\n"
      ],
      "execution_count": null,
      "outputs": []
    },
    {
      "cell_type": "code",
      "source": [
        "output_path = \"/content/drive/MyDrive/Colab Data/cleaned_Group_Project.xlsx\"\n",
        "df.to_excel(output_path, index=False)\n",
        "print(f\"Cleaned dataset exported to: {output_path}\")"
      ],
      "metadata": {
        "id": "0xsIe_ZioM9V"
      },
      "execution_count": null,
      "outputs": []
    }
  ]
}